{
 "cells": [
  {
   "cell_type": "code",
   "execution_count": 1,
   "id": "c93032a1",
   "metadata": {},
   "outputs": [
    {
     "name": "stdout",
     "output_type": "stream",
     "text": [
      "[1, 2, 3, 4, 5, 6, 7]\n"
     ]
    }
   ],
   "source": [
    "l =[1,3,5,7]\n",
    "l.insert(1,2)\n",
    "l.insert(3,4)\n",
    "l.insert(5,6)\n",
    "print(l)\n",
    "# Question 1"
   ]
  },
  {
   "cell_type": "code",
   "execution_count": 2,
   "id": "816e53b6",
   "metadata": {},
   "outputs": [
    {
     "name": "stdout",
     "output_type": "stream",
     "text": [
      "[1, 2, 3, 4, 5, 6]\n"
     ]
    }
   ],
   "source": [
    "l.pop()\n",
    "print(l)\n",
    "#question 2"
   ]
  },
  {
   "cell_type": "code",
   "execution_count": 5,
   "id": "0dc928c7",
   "metadata": {},
   "outputs": [
    {
     "name": "stdout",
     "output_type": "stream",
     "text": [
      "[1, 2, 3, 4, 5, 6, 3]\n"
     ]
    }
   ],
   "source": [
    "def Push(L,x):\n",
    "    L.append(x)\n",
    "    return L\n",
    "print(Push(l,3))\n",
    "#question 3"
   ]
  },
  {
   "cell_type": "code",
   "execution_count": 6,
   "id": "9ad923c1",
   "metadata": {},
   "outputs": [
    {
     "name": "stdout",
     "output_type": "stream",
     "text": [
      "3\n",
      "[1, 2, 3, 4, 5, 6]\n"
     ]
    }
   ],
   "source": [
    "#question 4 starts here\n",
    "def Pop(L):\n",
    "    return L.pop()\n",
    "print(Pop(l))\n",
    "print(l)"
   ]
  },
  {
   "cell_type": "code",
   "execution_count": 7,
   "id": "e815fe63",
   "metadata": {},
   "outputs": [
    {
     "name": "stdout",
     "output_type": "stream",
     "text": [
      "[1, 2, 3, 4, 5, 6, 10, 20, 30, 40, 50]\n",
      "50\n",
      "40\n",
      "30\n",
      "20\n",
      "10\n"
     ]
    }
   ],
   "source": [
    "#quesiton 5\n",
    "a = [10,20,30,40,50]\n",
    "for i in a:\n",
    "    Push(l,i)\n",
    "print(l)\n",
    "for i in range(len(a)):\n",
    "    print(Pop(l))"
   ]
  },
  {
   "cell_type": "code",
   "execution_count": 8,
   "id": "9efa15e7",
   "metadata": {},
   "outputs": [
    {
     "name": "stdout",
     "output_type": "stream",
     "text": [
      "[1, 2, 3, 4, 5, 1, 2, 3, 4, 5]\n",
      "[1, 2, 3, 4, 5]\n"
     ]
    }
   ],
   "source": [
    "#question 6\n",
    "l1 = [1,2,3,4,5]\n",
    "l1 = l1+l1\n",
    "print(l1)\n",
    "l1 = list(set(l1))\n",
    "print(l1)"
   ]
  },
  {
   "cell_type": "code",
   "execution_count": 9,
   "id": "17e6d98e",
   "metadata": {},
   "outputs": [
    {
     "name": "stdout",
     "output_type": "stream",
     "text": [
      "[2, 4]\n"
     ]
    }
   ],
   "source": [
    "#question 7\n",
    "l2 = [1,2,3,4,5]\n",
    "l3= [ i for i in l2 if i%2==0]\n",
    "print(l3)"
   ]
  },
  {
   "cell_type": "code",
   "execution_count": 102,
   "id": "266ea799",
   "metadata": {},
   "outputs": [
    {
     "name": "stdout",
     "output_type": "stream",
     "text": [
      "Enter a number, (even no. to terminate): 2\n"
     ]
    }
   ],
   "source": [
    "#Question 9\n",
    "\n",
    "while True:\n",
    "    a = int(input(\"Enter a number, (even no. to terminate): \"))\n",
    "    if a%2==0:\n",
    "        break"
   ]
  },
  {
   "cell_type": "code",
   "execution_count": 155,
   "id": "cebff5c8",
   "metadata": {},
   "outputs": [
    {
     "name": "stdout",
     "output_type": "stream",
     "text": [
      "987654321\n"
     ]
    }
   ],
   "source": [
    "# Question 10\n",
    "import math\n",
    "a=0\n",
    "b=0\n",
    "m=123456789\n",
    "t=m\n",
    "c=0\n",
    "while t>1:\n",
    "    a = b + (t//10**(int(math.log(t,10))))*10**(c)\n",
    "    t = t-10**(int(math.log(t,10)))*(t//10**(int(math.log(t,10))))\n",
    "    b=a\n",
    "    c +=1\n",
    "print(a)"
   ]
  },
  {
   "cell_type": "code",
   "execution_count": 160,
   "id": "5a9a6081",
   "metadata": {},
   "outputs": [
    {
     "name": "stdout",
     "output_type": "stream",
     "text": [
      "Enter a number: 9999\n"
     ]
    },
    {
     "data": {
      "text/plain": [
       "'NINE NINE NINE NINE '"
      ]
     },
     "execution_count": 160,
     "metadata": {},
     "output_type": "execute_result"
    }
   ],
   "source": [
    "# Question 11\n",
    "num = input(\"Enter a number: \")\n",
    "s= \"\"\n",
    "d = {1 : 'ONE', 2 : 'TWO', 3 : 'THREE', 4 : 'FOUR', 5 : 'FIVE', 6 : 'SIX', 7 : 'SEVEN', 8 : 'EIGHT', 9 : 'NINE'}\n",
    "for i in num:\n",
    "    s+= d[int(i)]+\" \"\n",
    "s"
   ]
  },
  {
   "cell_type": "code",
   "execution_count": 169,
   "id": "3ebdaf24",
   "metadata": {},
   "outputs": [
    {
     "name": "stdout",
     "output_type": "stream",
     "text": [
      "decreasing\n"
     ]
    }
   ],
   "source": [
    "# Question 12\n",
    "l = [6,5,4,3,2,1]\n",
    "d = [l[i+1]-l[i] for i in range(len(l)-1)]\n",
    "if all(v>=0 for v in d):\n",
    "    print(\"increasing\")\n",
    "elif all(v<=0 for v in d):\n",
    "    print(\"decreasing\")\n",
    "else:\n",
    "    print(\"not monotonic\")"
   ]
  },
  {
   "cell_type": "code",
   "execution_count": null,
   "id": "b577fc62",
   "metadata": {},
   "outputs": [],
   "source": []
  }
 ],
 "metadata": {
  "kernelspec": {
   "display_name": "Python 3 (ipykernel)",
   "language": "python",
   "name": "python3"
  },
  "language_info": {
   "codemirror_mode": {
    "name": "ipython",
    "version": 3
   },
   "file_extension": ".py",
   "mimetype": "text/x-python",
   "name": "python",
   "nbconvert_exporter": "python",
   "pygments_lexer": "ipython3",
   "version": "3.11.4"
  }
 },
 "nbformat": 4,
 "nbformat_minor": 5
}
