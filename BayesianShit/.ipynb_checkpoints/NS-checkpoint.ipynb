{
 "cells": [
  {
   "cell_type": "markdown",
   "id": "2cda46fa-5a37-400d-8084-8e5ac49cc4c2",
   "metadata": {},
   "source": [
    "# Nested Sampling Algorithm\n",
    "\n",
    "- Jeffrey's prior for $D_0$\n",
    "- Uniform Priors for $\\alpha$, $f$ and $\\sigma^2_{mn}$\n"
   ]
  },
  {
   "cell_type": "code",
   "execution_count": 1,
   "id": "46872bcf-39db-44a2-9f79-de673699a9bc",
   "metadata": {},
   "outputs": [],
   "source": [
    "import numpy as np\n",
    "import matplotlib.pyplot as plt\n",
    "from numba import jit\n",
    "import scipy.stats as stats"
   ]
  },
  {
   "cell_type": "code",
   "execution_count": 2,
   "id": "c1e35f79-34eb-4fa8-ab65-4b20eadd9027",
   "metadata": {},
   "outputs": [],
   "source": [
    "def jeff(x,magmin, magmax):\n",
    "    return magmin*exp(u*log(magmax/magmin))\n",
    "def uni(x, magmin, magmax):\n",
    "    return 1/(magmax, magmin)\n"
   ]
  },
  {
   "cell_type": "code",
   "execution_count": 220,
   "id": "bd776780-c023-4328-a132-43afc72d25de",
   "metadata": {},
   "outputs": [],
   "source": [
    "@jit\n",
    "def noisylikelihoodcalc(posn, DT, D, ALPHA, F, varmn):\n",
    "    # time series\n",
    "    n = len(posn)\n",
    "\n",
    "    #init value\n",
    "    logl = 0\n",
    "    k_BT =1\n",
    "    \n",
    "\n",
    "    # Intial values of the variance mean both noisy and clean\n",
    "    mob = D * (np.abs(posn[0]) ** ALPHA)\n",
    "    std_dev_noise = 2 * mob * DT + 2 * varmn\n",
    "    noisy_mean = posn[0] + (mob * F + k_BT * (ALPHA * D * ((np.abs(posn[0]) ** (ALPHA - 1)) * (np.sign(posn[0]))))) * DT\n",
    "    \n",
    "    # log likelihood at 1st step\n",
    "    logl = logl - ((posn[1] - noisy_mean) ** 2) / (2 * std_dev_noise) - np.log(np.sqrt(2 * np.pi * std_dev_noise))\n",
    "    \n",
    "    for i in range(2,n):\n",
    "        # Mobility at the step\n",
    "        mob = D * np.abs(posn[i - 1]) ** ALPHA\n",
    "\n",
    "        # clean variance at the jth step\n",
    "        std_dev = 2 * mob * DT\n",
    "\n",
    "        # clean mean position at the jth time step\n",
    "        mean_dist = posn[i - 1] + (mob * F + ALPHA * D * (np.abs(posn[i - 1]) ** (ALPHA - 1)) * (np.sign(posn[i - 1]))) * DT\n",
    "\n",
    "        # noisy mean position at the jth step\n",
    "        noisy_mean = mean_dist - varmn/(std_dev_noise) * (posn[i-1] - noisy_mean)\n",
    "\n",
    "        # noisy variance at the jth posn\n",
    "        std_dev_noise = std_dev + varmn * (2 - varmn / std_dev_noise)\n",
    "\n",
    "        # calculation of log likelihood\n",
    "        logl = logl - ((posn[i] - noisy_mean) ** 2) / (2 * std_dev_noise) - 0.5 * np.log(2 * np.pi * std_dev_noise)\n",
    "    \n",
    "    return logl"
   ]
  },
  {
   "cell_type": "code",
   "execution_count": 4,
   "id": "c395d8cd-49ef-43e2-85dc-0e5bb931949f",
   "metadata": {},
   "outputs": [],
   "source": [
    "@jit\n",
    "def Evidence(data, theta, npoints, tol):\n",
    "    logZ = 0\n",
    "    walker = walkergen(npoints, theta_max, theta_min)\n",
    "    for i in range(0,npoints):\n",
    "        ll[i] = noisylikelihoodcalc(p_data, 1, walker[i][0], walker[i][1], walker[i][2], walker[i][3])\n",
    "    \n",
    "    "
   ]
  },
  {
   "cell_type": "code",
   "execution_count": 5,
   "id": "e31030ad-0577-46ea-847e-eeab8b2f843a",
   "metadata": {},
   "outputs": [],
   "source": [
    "@jit\n",
    "def walkergen(n, tmax, tmin):\n",
    "    x = np.zeros((n,4))\n",
    "    for i in range(0,n):\n",
    "        for j in range(0,4):\n",
    "            x[i][j] = np.random.uniform(tmin[j],tmax[j])\n",
    "    return x"
   ]
  },
  {
   "cell_type": "code",
   "execution_count": 6,
   "id": "a4f59bd2-e1c5-424a-b13b-58a1eb3d9f72",
   "metadata": {},
   "outputs": [],
   "source": [
    "@jit \n",
    "def logsum(a, b):\n",
    "    return max(a,b) + np.log(1+ np.exp(-np.abs(a-b)))"
   ]
  },
  {
   "cell_type": "code",
   "execution_count": 297,
   "id": "07dc9ab3-ab4a-4958-a8fa-8bd16d67a56a",
   "metadata": {},
   "outputs": [],
   "source": [
    "D_min = 10**(-4)\n",
    "D_max = 10**2\n",
    "# D_min = 0.\n",
    "# D_max = 1.\n",
    "\n",
    "\n",
    "f_min = -1.\n",
    "f_max = 1.\n",
    "\n",
    "alpha_min = -2.\n",
    "alpha_max = 2.\n",
    "\n",
    "varmn_min = 0.\n",
    "varmn_max = 1.\n",
    "\n",
    "theta_max = np.array([D_max, alpha_max, f_max, varmn_max])\n",
    "theta_min = np.array([D_min, alpha_min, f_min, varmn_min])\n"
   ]
  },
  {
   "cell_type": "code",
   "execution_count": 298,
   "id": "9167d914-d4d5-4f01-8652-946c51223197",
   "metadata": {},
   "outputs": [],
   "source": [
    "npoints = 20\n",
    "\n",
    "walkers = np.zeros((npoints,4))\n",
    "\n",
    "walker = walkergen(npoints, theta_max, theta_min)\n",
    "\n",
    "\n",
    "p_data = np.array([50,46.743,46.751,40.915,45.066,50.56,44.448,40.518,40.145,39.551,42.887,40.218,44.399,38.416,36.626,35.867,30.252,28.843,26.412,27.815,28.166,32.899,34.738,33.237,24.448,22.771,19.285,24.966,23.912,23.839,23.83,22.253,15.661,20.156,20.166,16.9,15.495,18.734,18.234,17.823,16.052,11.424,9.4223,7.3746,7.2549,7.2847,6.7366,7.7324,6.8572,7.034,5.3564,3.7969,3.4073,4.3653,4.56,4.8884,3.8021,2.9259,3.5701,4.0879,2.3471,0.95298,1.7231,1.7968,1.753,2.1651,2.1354,2.404,2.9188,1.1974,1.3358,1.428,1.8476,2.1991,1.1013,1.3227,0.71634,0.68376,0.89795,1.6167,2.0934,2.4119,1.0693,1.2777,2.2396,0.30283,0.64551,-0.44319,-0.79814,-0.82102,-2.0478,-1.6834,-1.8176,-1.3092,-1.2355,-1.8231,-1.8543,-2.1829,-4.2785,-4.2926])\n",
    "\n",
    "ll = np.zeros(npoints)"
   ]
  },
  {
   "cell_type": "code",
   "execution_count": 22,
   "id": "c362a987-8ce7-40a2-b8f5-516ae4f354a4",
   "metadata": {},
   "outputs": [
    {
     "name": "stderr",
     "output_type": "stream",
     "text": [
      "/tmp/ipykernel_7466/2276444276.py:14: RuntimeWarning: divide by zero encountered in log\n",
      "  logZ = np.log(0)\n"
     ]
    },
    {
     "ename": "TypeError",
     "evalue": "not enough arguments: expected 2, got 1",
     "output_type": "error",
     "traceback": [
      "\u001b[0;31m---------------------------------------------------------------------------\u001b[0m",
      "\u001b[0;31mTypeError\u001b[0m                                 Traceback (most recent call last)",
      "Cell \u001b[0;32mIn[22], line 22\u001b[0m\n\u001b[1;32m     20\u001b[0m lstar \u001b[38;5;241m=\u001b[39m []\n\u001b[1;32m     21\u001b[0m \u001b[38;5;28;01mfor\u001b[39;00m i \u001b[38;5;129;01min\u001b[39;00m \u001b[38;5;28mrange\u001b[39m(\u001b[38;5;241m0\u001b[39m,npoints):\n\u001b[0;32m---> 22\u001b[0m     logZrem \u001b[38;5;241m=\u001b[39m logsum(logZrem, )\n\u001b[1;32m     23\u001b[0m logZrem \u001b[38;5;241m=\u001b[39m logZdel \u001b[38;5;241m-\u001b[39m logZ\n\u001b[1;32m     24\u001b[0m \u001b[38;5;28;01mwhile\u001b[39;00m \u001b[38;5;28;01mTrue\u001b[39;00m:\n\u001b[1;32m     25\u001b[0m     \u001b[38;5;66;03m# log width contraction\u001b[39;00m\n",
      "\u001b[0;31mTypeError\u001b[0m: not enough arguments: expected 2, got 1"
     ]
    }
   ],
   "source": [
    "for i in range(0,npoints):\n",
    "    ll[i] = noisylikelihoodcalc(p_data, 1, walker[i][0], walker[i][1], walker[i][2], walker[i][3])\n",
    "\n",
    "ll\n",
    "\n",
    "Nsteps\n",
    "\n",
    "tol = -4\n",
    "\n",
    "wt = 1/(npoints + 1)\n",
    "\n",
    "Z = np.exp(min(ll))*wt\n",
    "\n",
    "wt = 1/(npoints + 1)\n",
    "\n",
    "logZ = np.log(0)\n",
    "logp = min(ll)+ np.log(wt)\n",
    "logZ = logsum(logZ,logp)\n",
    "logZrem = -np.log(npoints + 1)\n",
    "\n",
    "step = 0\n",
    "\n",
    "j=1\n",
    "\n",
    "lstar = []\n",
    "\n",
    "# for i in range(0,npoints):\n",
    "    # logZrem = logsum(logZrem, )\n",
    "\n",
    "logZrem = logZdel - logZ\n",
    "\n",
    "while True:\n",
    "    # log width contraction\n",
    "    logwt = logwt + np.log(npoints/(npoints+1))\n",
    "\n",
    "    # log likelihood calculation\n",
    "    ll = [noisylikelihoodcalc(p_data, 1, walker[i][0], walker[i][1], walker[i][2], walker[i][3]) for i in range(0,npoints) for i in range(0, npoints)]\n",
    "\n",
    "    # lowest likelihood of all the walkers\n",
    "    lstar.append(min(ll))\n",
    "\n",
    "    # log Z finding\n",
    "    logZ = logsum(logZ, (lstar[-1] + logwt))\n",
    "    \n",
    "    # logZrem = np.log(sum(ll))*\n",
    "    R = logZrem - logZ\n",
    "    if R < tol:\n",
    "        break\n",
    "        \n",
    "    p = np.where(ll == min(ll))[0]\n",
    "\n",
    "    # randomly select a walker to copy and random walk\n",
    "    newwalkernumber = np.random.randint(1,npoints+1)\n",
    "\n",
    "    # parameters of the randomly selected walker\n",
    "    thetawalker = walker[newwalkernumber]\n",
    "\n",
    "    # walker replacement  \n",
    "    # step, walker[p] = MCMCwalker(p_data, 1, theta, walker[p], lstar[-1] , Nsteps, step)\n",
    "\n",
    "    #Zrem Calc\n",
    "\n",
    "    # interim stop\n",
    "\n",
    "    #Information    \n",
    "tol"
   ]
  },
  {
   "cell_type": "code",
   "execution_count": 92,
   "id": "04a2f279-6217-4992-b1bb-1b83a0ecf0f1",
   "metadata": {},
   "outputs": [
    {
     "name": "stderr",
     "output_type": "stream",
     "text": [
      "/tmp/ipykernel_255041/3760685357.py:2: RuntimeWarning: divide by zero encountered in log\n",
      "  logsum(np.log(0),5)\n"
     ]
    },
    {
     "data": {
      "text/plain": [
       "5.0"
      ]
     },
     "execution_count": 92,
     "metadata": {},
     "output_type": "execute_result"
    }
   ],
   "source": [
    "# np.log(np.exp(np.log(0)) + np.exp(2));\n",
    "logsum(np.log(0),5)"
   ]
  },
  {
   "cell_type": "code",
   "execution_count": 10,
   "id": "7cb55b7c-30a0-4a67-826b-f802d89e152e",
   "metadata": {},
   "outputs": [
    {
     "data": {
      "text/plain": [
       "2.313261687518223"
      ]
     },
     "execution_count": 10,
     "metadata": {},
     "output_type": "execute_result"
    }
   ],
   "source": [
    "logsum(1,2)"
   ]
  },
  {
   "cell_type": "code",
   "execution_count": 49,
   "id": "d0ea06a6-b5a4-4b96-ae08-56a36c4a9f1c",
   "metadata": {},
   "outputs": [
    {
     "data": {
      "text/plain": [
       "6"
      ]
     },
     "execution_count": 49,
     "metadata": {},
     "output_type": "execute_result"
    }
   ],
   "source": [
    "np.random.randint(1,npoints+1)"
   ]
  },
  {
   "cell_type": "markdown",
   "id": "f0cc0322-f982-458d-a954-1d443fd0a549",
   "metadata": {},
   "source": [
    "# MCMC walker\n",
    "\n",
    "Tried my hand at coding a MCMC walker using the Metropolis Hastings algo. The proposal function is a standard gaussian. The results are not ideal."
   ]
  },
  {
   "cell_type": "code",
   "execution_count": 295,
   "id": "dffd8f1b-0967-45eb-83f5-0344d072229e",
   "metadata": {},
   "outputs": [],
   "source": [
    "# @jit\n",
    "def MCMCwalker(x, DT, walker, Lstar, N, step = 0):\n",
    "    \n",
    "    if step == 0:\n",
    "        step = 1\n",
    "\n",
    "    # assigning parameter values for the walker \n",
    "    D = walker[0]\n",
    "    a = walker[1]\n",
    "    f = walker[2]\n",
    "    mn = walker[3]\n",
    "    \n",
    "    R = 0\n",
    "\n",
    "    # intializing the walker distribution\n",
    "    walker_new = np.zeros((N,4))\n",
    "\n",
    "    # init proposal function\n",
    "    # proposal for new points in parameter space\n",
    "    prop = np.zeros(4)\n",
    "\n",
    "    #rejection count to determine new steps\n",
    "    rejcount = 0 \n",
    "\n",
    "    #initial walker value is the intial walker point\n",
    "    walker_new[0] = walker \n",
    "\n",
    "    #counter variable\n",
    "    i = 1\n",
    "    \n",
    "    while i<N:\n",
    "        \n",
    "        #setting new values using the proposal function\n",
    "        for j in range(0,4):\n",
    "            prop[j] = walker_new[i-1][j] + np.random.normal(0,step)\n",
    "\n",
    "        # log likelihood of the walker\n",
    "        llwalker = noisylikelihoodcalc(x, DT, *prop)\n",
    "\n",
    "        #moving around prior landscape\n",
    "        if llwalker >= Lstar:\n",
    "            walker_new[i] = prop\n",
    "            Lstar = llwalker\n",
    "        else:\n",
    "            walker_new[i] = walker_new[i-1]\n",
    "            rejcount += 1\n",
    "        i+=1\n",
    "\n",
    "    # Rejection Ratio\n",
    "    R = rejcount/N\n",
    "\n",
    "    #new step\n",
    "    step = min(step * np.exp( 0.5 - R), 1)\n",
    "    \n",
    "    return step, walker_new, walker_new[-1]         "
   ]
  },
  {
   "cell_type": "code",
   "execution_count": 249,
   "id": "9c9d31f5-04f7-43fc-b91a-3e8d38009539",
   "metadata": {},
   "outputs": [
    {
     "data": {
      "text/plain": [
       "(array([11.80675257, -1.38165811, -0.67081515,  3.57768302]),\n",
       " -1001.0126734678046)"
      ]
     },
     "execution_count": 249,
     "metadata": {},
     "output_type": "execute_result"
    }
   ],
   "source": [
    "N=500000\n",
    "a = walkergen(1,theta_max,theta_min)[0]\n",
    "lla = noisylikelihoodcalc(p_data, 1, *a)\n",
    "a,lla"
   ]
  },
  {
   "cell_type": "code",
   "execution_count": 300,
   "id": "d8668726-9c94-4c0b-9750-712cd1fb8d05",
   "metadata": {},
   "outputs": [
    {
     "name": "stdout",
     "output_type": "stream",
     "text": [
      "init_Walker = [41.39802076 -1.18364817 -0.34440376  0.79810616]\n",
      "init likelihood = -1702.3795245228876\n"
     ]
    },
    {
     "data": {
      "text/plain": [
       "(-179.16931994050168,\n",
       " array([ 0.14305711,  1.05263164, -0.27306209,  0.02627767]))"
      ]
     },
     "execution_count": 300,
     "metadata": {},
     "output_type": "execute_result"
    }
   ],
   "source": [
    "a = walkergen(1,theta_max,theta_min)[0]\n",
    "lla = noisylikelihoodcalc(p_data, 1, *a)\n",
    "print(\"init_Walker = \" + str(a))\n",
    "print(\"init likelihood = \" +str(lla))\n",
    "t = MCMCwalker(p_data, 1, a, lla, N, step)\n",
    "step = t[0]\n",
    "fp = t[2]\n",
    "llf = noisylikelihoodcalc(p_data, 1, fp[0], fp[1], fp[2], fp[3])\n",
    "fp\n",
    "t[1]\n",
    "llf,fp"
   ]
  },
  {
   "cell_type": "code",
   "execution_count": 259,
   "id": "3de44a36-62fe-4312-96a2-0731538c7c80",
   "metadata": {},
   "outputs": [
    {
     "data": {
      "text/plain": [
       "array([[ 0.25323123,  0.54183061, -0.6625004 ,  0.55793117],\n",
       "       [ 0.25051757,  0.56402904, -0.66226335,  0.53377599],\n",
       "       [ 0.27442598,  0.57158601, -0.66144929,  0.5817193 ],\n",
       "       ...,\n",
       "       [ 0.14334919,  1.05323543, -0.26928795,  0.0260316 ],\n",
       "       [ 0.14334919,  1.05323543, -0.26928795,  0.0260316 ],\n",
       "       [ 0.14334919,  1.05323543, -0.26928795,  0.0260316 ]])"
      ]
     },
     "execution_count": 259,
     "metadata": {},
     "output_type": "execute_result"
    }
   ],
   "source": [
    "t[1]"
   ]
  },
  {
   "cell_type": "code",
   "execution_count": 266,
   "id": "2ac83b6e-729f-4065-bdef-0a5a51300833",
   "metadata": {},
   "outputs": [
    {
     "data": {
      "image/png": "[encoded data removed]",
      "text/plain": [
       "<Figure size 640x480 with 1 Axes>"
      ]
     },
     "metadata": {},
     "output_type": "display_data"
    }
   ],
   "source": [
    "plt.hist(t[:][0],bins = 1000, density = True);"
   ]
  },
  {
   "cell_type": "code",
   "execution_count": 231,
   "id": "1c542dbb-94a4-4882-ac8a-17f925df4868",
   "metadata": {},
   "outputs": [
    {
     "data": {
      "text/plain": [
       "-180.397045194095"
      ]
     },
     "execution_count": 231,
     "metadata": {},
     "output_type": "execute_result"
    }
   ],
   "source": [
    "llt = noisylikelihoodcalc(p_data, 1, 0.2, 1,-0.3,0)\n",
    "llt"
   ]
  },
  {
   "cell_type": "code",
   "execution_count": 283,
   "id": "0bd6f1d3-bb3b-4170-87f4-e8cc869003b1",
   "metadata": {},
   "outputs": [
    {
     "data": {
      "text/plain": [
       "array([0.25323123, 0.25051757, 0.27442598, ..., 0.14334919, 0.14334919,\n",
       "       0.14334919])"
      ]
     },
     "execution_count": 283,
     "metadata": {},
     "output_type": "execute_result"
    }
   ],
   "source": [
    "lol = np.array(t[1])\n",
    "lol[:,0]"
   ]
  },
  {
   "cell_type": "code",
   "execution_count": 285,
   "id": "8a8edfe2-6ad6-49a8-a76f-8e215798d5b4",
   "metadata": {},
   "outputs": [
    {
     "data": {
      "text/plain": [
       "(0.14316347616580058,\n",
       " 1.053461774617821,\n",
       " -0.27085853311657937,\n",
       " 0.02611041935767762)"
      ]
     },
     "execution_count": 285,
     "metadata": {},
     "output_type": "execute_result"
    }
   ],
   "source": [
    "lol[:,0].mean(), lol[:,1].mean(), lol[:,2].mean(), lol[:,3].mean()"
   ]
  },
  {
   "cell_type": "code",
   "execution_count": 292,
   "id": "9dc428b9-2117-428e-8238-24d512d3464d",
   "metadata": {},
   "outputs": [
    {
     "data": {
      "text/plain": [
       "(0.12917107878070405, 0.15)"
      ]
     },
     "execution_count": 292,
     "metadata": {},
     "output_type": "execute_result"
    },
    {
     "data": {
      "image/png": "[encoded data removed]",
      "text/plain": [
       "<Figure size 640x480 with 1 Axes>"
      ]
     },
     "metadata": {},
     "output_type": "display_data"
    }
   ],
   "source": [
    "plt.hist(lol[:,0], bins =200,density = True);\n",
    "plt.xlim(right = 0.15)"
   ]
  },
  {
   "cell_type": "code",
   "execution_count": 80,
   "id": "f45314cb-e32b-4aff-bbf5-0cde67d9e218",
   "metadata": {},
   "outputs": [
    {
     "ename": "TypeError",
     "evalue": "MCMCwalker() takes from 5 to 6 positional arguments but 7 were given",
     "output_type": "error",
     "traceback": [
      "\u001b[0;31m---------------------------------------------------------------------------\u001b[0m",
      "\u001b[0;31mTypeError\u001b[0m                                 Traceback (most recent call last)",
      "Cell \u001b[0;32mIn[80], line 1\u001b[0m\n\u001b[0;32m----> 1\u001b[0m trace \u001b[38;5;241m=\u001b[39m MCMCwalker(p_data, \u001b[38;5;241m1\u001b[39m, [\u001b[38;5;241m0.3\u001b[39m,\u001b[38;5;241m1.\u001b[39m,\u001b[38;5;241m-\u001b[39m\u001b[38;5;241m0.3\u001b[39m,\u001b[38;5;241m0.\u001b[39m],theta_max,theta_min,\u001b[38;5;241m100000\u001b[39m, step)\n\u001b[1;32m      2\u001b[0m step \u001b[38;5;241m=\u001b[39m trace[\u001b[38;5;241m0\u001b[39m]\n\u001b[1;32m      3\u001b[0m post \u001b[38;5;241m=\u001b[39m trace[\u001b[38;5;241m1\u001b[39m]\n",
      "\u001b[0;31mTypeError\u001b[0m: MCMCwalker() takes from 5 to 6 positional arguments but 7 were given"
     ]
    }
   ],
   "source": [
    "trace = MCMCwalker(p_data, 1, [0.3,1.,-0.3,0.],theta_max,theta_min,100000, step)\n",
    "step = trace[0]\n",
    "post = trace[1]"
   ]
  },
  {
   "cell_type": "code",
   "execution_count": 19,
   "id": "6b483918-db87-4190-98d7-cd247b187795",
   "metadata": {},
   "outputs": [
    {
     "data": {
      "image/png": "[encoded data removed]",
      "text/plain": [
       "<Figure size 640x480 with 1 Axes>"
      ]
     },
     "metadata": {},
     "output_type": "display_data"
    }
   ],
   "source": [
    "plt.hist(post, bins = 1000);\n",
    "# plt.xlim("
   ]
  },
  {
   "cell_type": "code",
   "execution_count": 21,
   "id": "ad7db279-3d03-4a0f-b157-de5a7ffbe794",
   "metadata": {},
   "outputs": [
    {
     "data": {
      "text/plain": [
       "0.1815196290978814"
      ]
     },
     "execution_count": 21,
     "metadata": {},
     "output_type": "execute_result"
    }
   ],
   "source": [
    "post.mean()"
   ]
  },
  {
   "cell_type": "code",
   "execution_count": 63,
   "id": "c4c4aac6-45fb-4011-8324-da5d2324e61a",
   "metadata": {},
   "outputs": [
    {
     "data": {
      "text/plain": [
       "132.500899310604"
      ]
     },
     "execution_count": 63,
     "metadata": {},
     "output_type": "execute_result"
    }
   ],
   "source": [
    "max(post)"
   ]
  },
  {
   "cell_type": "code",
   "execution_count": null,
   "id": "0fdafe86-e2b2-40e9-9077-51da43aafa67",
   "metadata": {},
   "outputs": [],
   "source": []
  }
 ],
 "metadata": {
  "kernelspec": {
   "display_name": "Python 3 (ipykernel)",
   "language": "python",
   "name": "python3"
  },
  "language_info": {
   "codemirror_mode": {
    "name": "ipython",
    "version": 3
   },
   "file_extension": ".py",
   "mimetype": "text/x-python",
   "name": "python",
   "nbconvert_exporter": "python",
   "pygments_lexer": "ipython3",
   "version": "3.12.2"
  }
 },
 "nbformat": 4,
 "nbformat_minor": 5
}
