{
 "cells": [
  {
   "cell_type": "markdown",
   "id": "2cda46fa-5a37-400d-8084-8e5ac49cc4c2",
   "metadata": {},
   "source": [
    "# Nested Sampling Algorithm\n",
    "\n",
    "- Jeffrey's prior for $D_0$\n",
    "- Uniform Priors for $\\alpha$, $f$ and $\\sigma^2_{mn}$\n"
   ]
  },
  {
   "cell_type": "code",
   "execution_count": 1,
   "id": "46872bcf-39db-44a2-9f79-de673699a9bc",
   "metadata": {},
   "outputs": [],
   "source": [
    "import numpy as np\n",
    "import matplotlib.pyplot as plt\n",
    "from numba import jit\n",
    "import scipy.stats as stats"
   ]
  },
  {
   "cell_type": "code",
   "execution_count": 2,
   "id": "c1e35f79-34eb-4fa8-ab65-4b20eadd9027",
   "metadata": {},
   "outputs": [],
   "source": [
    "def jeff(x,magmin, magmax):\n",
    "    return magmin*exp(u*log(magmax/magmin))\n",
    "def uni(x, magmin, magmax):\n",
    "    return 1/(magmax, magmin)\n"
   ]
  },
  {
   "cell_type": "code",
   "execution_count": 3,
   "id": "bd776780-c023-4328-a132-43afc72d25de",
   "metadata": {},
   "outputs": [],
   "source": [
    "@jit\n",
    "def noisylikelihoodcalc(x_coord, DT, D, ALPHA, F, varmn):\n",
    "    n = len(x_coord)\n",
    "    logl = 0\n",
    "    \n",
    "    k_BT =1\n",
    "    # Noise measurement changes\n",
    "    std_dev_noise = 2 * D * (np.abs(x_coord[0])**ALPHA) * DT + 2 * varmn\n",
    "    noisy_mean = x_coord[0] + ((np.abs(x_coord[0])**ALPHA) * F + k_BT * (ALPHA * D * ((np.abs(x_coord[0])**(ALPHA-1))*(np.sign(x_coord[0])))))* DT\n",
    "    \n",
    "\n",
    "    logl -= ((x_coord[1] - noisy_mean)**2)/(2 * std_dev_noise) + 0.5 * np.log(2 * np.pi * std_dev_noise)\n",
    "    \n",
    "    for i in range(2,n):\n",
    "        std_dev = 2 * D * (np.abs(x_coord[i-1])**ALPHA) * DT\n",
    "        mean_dist = x_coord[i-1] + ((np.abs(x_coord[i-1])**ALPHA) * F + ALPHA * D * (np.abs(x_coord[i-1])**(ALPHA-1))*(np.sign(x_coord[i-1])))* DT \n",
    "        noisy_mean = mean_dist - varmn/(std_dev_noise) * (x_coord[i-1] - noisy_mean)\n",
    "        std_dev_noise = std_dev + varmn*(2 - varmn/std_dev_noise)\n",
    "        \n",
    "        logl = logl -((x_coord[i] - noisy_mean)**2)/(2 * std_dev_noise) - 0.5 * np.log(2 * np.pi * std_dev_noise)\n",
    "    \n",
    "    return logl"
   ]
  },
  {
   "cell_type": "code",
   "execution_count": 4,
   "id": "c395d8cd-49ef-43e2-85dc-0e5bb931949f",
   "metadata": {},
   "outputs": [],
   "source": [
    "@jit\n",
    "def Evidence(data, theta, npoints, tol):\n",
    "    logZ = 0\n",
    "    walker = walkergen(npoints, theta_max, theta_min)\n",
    "    for i in range(0,npoints):\n",
    "        ll[i] = noisylikelihoodcalc(p_data, 1, walker[i][0], walker[i][1], walker[i][2], walker[i][3])\n",
    "    \n",
    "    "
   ]
  },
  {
   "cell_type": "code",
   "execution_count": 5,
   "id": "e31030ad-0577-46ea-847e-eeab8b2f843a",
   "metadata": {},
   "outputs": [],
   "source": [
    "@jit\n",
    "def walkergen(n, tmax, tmin):\n",
    "    x = np.zeros((n,4))\n",
    "    for i in range(0,n):\n",
    "        for j in range(0,4):\n",
    "            x[i][j] = np.random.uniform(tmin[j],tmax[j])\n",
    "    return x"
   ]
  },
  {
   "cell_type": "code",
   "execution_count": 6,
   "id": "a4f59bd2-e1c5-424a-b13b-58a1eb3d9f72",
   "metadata": {},
   "outputs": [],
   "source": [
    "@jit \n",
    "def logsum(a, b):\n",
    "    return max(a,b) + np.log(1+ np.exp(-np.abs(a-b)))"
   ]
  },
  {
   "cell_type": "code",
   "execution_count": 7,
   "id": "07dc9ab3-ab4a-4958-a8fa-8bd16d67a56a",
   "metadata": {},
   "outputs": [],
   "source": [
    "D_min = 10**(-4)\n",
    "D_max = 10**2\n",
    "\n",
    "f_min = -1.\n",
    "f_max = 1.\n",
    "\n",
    "alpha_min = -2.\n",
    "alpha_max = 2.\n",
    "\n",
    "varmn_min = 0.\n",
    "varmn_max = 100.\n",
    "\n",
    "theta_max = np.array([D_max, alpha_max, f_max, varmn_max])\n",
    "theta_min = [D_min, alpha_min, f_min, varmn_min]\n"
   ]
  },
  {
   "cell_type": "code",
   "execution_count": 8,
   "id": "9167d914-d4d5-4f01-8652-946c51223197",
   "metadata": {},
   "outputs": [],
   "source": [
    "npoints = 20\n",
    "\n",
    "walkers = np.zeros((npoints,4))\n",
    "\n",
    "walker = walkergen(npoints, theta_max, theta_min)\n",
    "\n",
    "\n",
    "p_data = np.array([50,46.743,46.751,40.915,45.066,50.56,44.448,40.518,40.145,39.551,42.887,40.218,44.399,38.416,36.626,35.867,30.252,28.843,26.412,27.815,28.166,32.899,34.738,33.237,24.448,22.771,19.285,24.966,23.912,23.839,23.83,22.253,15.661,20.156,20.166,16.9,15.495,18.734,18.234,17.823,16.052,11.424,9.4223,7.3746,7.2549,7.2847,6.7366,7.7324,6.8572,7.034,5.3564,3.7969,3.4073,4.3653,4.56,4.8884,3.8021,2.9259,3.5701,4.0879,2.3471,0.95298,1.7231,1.7968,1.753,2.1651,2.1354,2.404,2.9188,1.1974,1.3358,1.428,1.8476,2.1991,1.1013,1.3227,0.71634,0.68376,0.89795,1.6167,2.0934,2.4119,1.0693,1.2777,2.2396,0.30283,0.64551,-0.44319,-0.79814,-0.82102,-2.0478,-1.6834,-1.8176,-1.3092,-1.2355,-1.8231,-1.8543,-2.1829,-4.2785,-4.2926])\n",
    "\n",
    "ll = np.zeros(npoints)"
   ]
  },
  {
   "cell_type": "code",
   "execution_count": 10,
   "id": "c362a987-8ce7-40a2-b8f5-516ae4f354a4",
   "metadata": {},
   "outputs": [
    {
     "name": "stderr",
     "output_type": "stream",
     "text": [
      "/tmp/ipykernel_286718/101233363.py:11: RuntimeWarning: divide by zero encountered in log\n",
      "  logZ = np.log(0)\n"
     ]
    },
    {
     "ename": "TypeError",
     "evalue": "not enough arguments: expected 2, got 1",
     "output_type": "error",
     "traceback": [
      "\u001b[0;31m---------------------------------------------------------------------------\u001b[0m",
      "\u001b[0;31mTypeError\u001b[0m                                 Traceback (most recent call last)",
      "Cell \u001b[0;32mIn[10], line 16\u001b[0m\n\u001b[1;32m     14\u001b[0m logZrem \u001b[38;5;241m=\u001b[39m \u001b[38;5;241m-\u001b[39mnp\u001b[38;5;241m.\u001b[39mlog(npoints \u001b[38;5;241m+\u001b[39m \u001b[38;5;241m1\u001b[39m)\n\u001b[1;32m     15\u001b[0m \u001b[38;5;28;01mfor\u001b[39;00m i \u001b[38;5;129;01min\u001b[39;00m \u001b[38;5;28mrange\u001b[39m(\u001b[38;5;241m0\u001b[39m,npoints):\n\u001b[0;32m---> 16\u001b[0m     logZrem \u001b[38;5;241m=\u001b[39m logsum(logZrem, )\n\u001b[1;32m     17\u001b[0m Zrem \u001b[38;5;241m=\u001b[39m logZdel \u001b[38;5;241m-\u001b[39m logZ\n\u001b[1;32m     18\u001b[0m tol\n",
      "\u001b[0;31mTypeError\u001b[0m: not enough arguments: expected 2, got 1"
     ]
    }
   ],
   "source": [
    "for i in range(0,npoints):\n",
    "    ll[i] = noisylikelihoodcalc(p_data, 1, walker[i][0], walker[i][1], walker[i][2], walker[i][3])\n",
    "\n",
    "ll\n",
    "tol = -4\n",
    "wt = 1/(npoints + 1)\n",
    "Z = np.exp(min(ll))*wt\n",
    "# logZ = np.log(Z)\n",
    "# while(Zrat > tol)\n",
    "wt = 1/(npoints + 1)\n",
    "logZ = np.log(0)\n",
    "logp = min(ll)+ np.log(wt)\n",
    "logZ = logsum(logZ,logp)\n",
    "logZrem = -np.log(npoints + 1)\n",
    "for i in range(0,npoints):\n",
    "    logZrem = logsum(logZrem, )\n",
    "Zrem = logZdel - logZ\n",
    "tol"
   ]
  },
  {
   "cell_type": "code",
   "execution_count": 92,
   "id": "04a2f279-6217-4992-b1bb-1b83a0ecf0f1",
   "metadata": {},
   "outputs": [
    {
     "name": "stderr",
     "output_type": "stream",
     "text": [
      "/tmp/ipykernel_255041/3760685357.py:2: RuntimeWarning: divide by zero encountered in log\n",
      "  logsum(np.log(0),5)\n"
     ]
    },
    {
     "data": {
      "text/plain": [
       "5.0"
      ]
     },
     "execution_count": 92,
     "metadata": {},
     "output_type": "execute_result"
    }
   ],
   "source": [
    "# np.log(np.exp(np.log(0)) + np.exp(2));\n",
    "logsum(np.log(0),5)"
   ]
  },
  {
   "cell_type": "code",
   "execution_count": 74,
   "id": "7cb55b7c-30a0-4a67-826b-f802d89e152e",
   "metadata": {},
   "outputs": [
    {
     "data": {
      "text/plain": [
       "2.313261687518223"
      ]
     },
     "execution_count": 74,
     "metadata": {},
     "output_type": "execute_result"
    }
   ],
   "source": [
    "logsum(1,2)"
   ]
  },
  {
   "cell_type": "code",
   "execution_count": 77,
   "id": "dffd8f1b-0967-45eb-83f5-0344d072229e",
   "metadata": {},
   "outputs": [],
   "source": [
    "@jit\n",
    "def MCMCwalker(x, DT,theta, thetamax, thetamin, N, step):\n",
    "    D = theta[0]\n",
    "    a = theta[1]\n",
    "    f = theta[2]\n",
    "    mn = theta[3]\n",
    "    R = 0\n",
    "    postdist = np.zeros(N)\n",
    "    rejcount = 0 \n",
    "    # prop = np.zeros(4)\n",
    "    # for i in range(0,4):\n",
    "    postdist[0] = np.random.uniform(thetamin[1], thetamax[1]) \n",
    "    llwalker = noisylikelihoodcalc(x, DT, D, postdist[0], f, mn)\n",
    "    i = 1\n",
    "    while i<N:\n",
    "        Lstar = llwalker\n",
    "        prop = postdist[i-1] + np.random.normal(0,step)\n",
    "        llwalker = noisylikelihoodcalc(x, DT, D, prop, f, mn)\n",
    "        if llwalker >= Lstar:\n",
    "            postdist[i] = prop\n",
    "        else:\n",
    "           rejcount += 1\n",
    "        i+=1\n",
    "\n",
    "    R = rejcount/N\n",
    "    step = min(step * np.exp( 0.5 - R), 1)\n",
    "    return step, postdist             "
   ]
  },
  {
   "cell_type": "code",
   "execution_count": 78,
   "id": "f45314cb-e32b-4aff-bbf5-0cde67d9e218",
   "metadata": {},
   "outputs": [],
   "source": [
    "trace = MCMCwalker(p_data, 1, [0.3,1.,-0.3,0.],theta_max,theta_min,100000, step)\n",
    "step = trace[0]\n",
    "post = trace[1]"
   ]
  },
  {
   "cell_type": "code",
   "execution_count": 79,
   "id": "6b483918-db87-4190-98d7-cd247b187795",
   "metadata": {},
   "outputs": [
    {
     "data": {
      "image/png": "[encoded data removed]",
      "text/plain": [
       "<Figure size 640x480 with 1 Axes>"
      ]
     },
     "metadata": {},
     "output_type": "display_data"
    }
   ],
   "source": [
    "plt.hist(post, bins = 1000);\n",
    "# plt.xlim("
   ]
  },
  {
   "cell_type": "code",
   "execution_count": 81,
   "id": "ad7db279-3d03-4a0f-b157-de5a7ffbe794",
   "metadata": {},
   "outputs": [
    {
     "data": {
      "text/plain": [
       "0.043998497194237395"
      ]
     },
     "execution_count": 81,
     "metadata": {},
     "output_type": "execute_result"
    }
   ],
   "source": [
    "post.mean()"
   ]
  },
  {
   "cell_type": "code",
   "execution_count": 63,
   "id": "c4c4aac6-45fb-4011-8324-da5d2324e61a",
   "metadata": {},
   "outputs": [
    {
     "data": {
      "text/plain": [
       "132.500899310604"
      ]
     },
     "execution_count": 63,
     "metadata": {},
     "output_type": "execute_result"
    }
   ],
   "source": [
    "max(post)"
   ]
  },
  {
   "cell_type": "code",
   "execution_count": null,
   "id": "0fdafe86-e2b2-40e9-9077-51da43aafa67",
   "metadata": {},
   "outputs": [],
   "source": []
  }
 ],
 "metadata": {
  "kernelspec": {
   "display_name": "Python 3 (ipykernel)",
   "language": "python",
   "name": "python3"
  },
  "language_info": {
   "codemirror_mode": {
    "name": "ipython",
    "version": 3
   },
   "file_extension": ".py",
   "mimetype": "text/x-python",
   "name": "python",
   "nbconvert_exporter": "python",
   "pygments_lexer": "ipython3",
   "version": "3.12.2"
  }
 },
 "nbformat": 4,
 "nbformat_minor": 5
}
