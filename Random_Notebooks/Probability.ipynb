{
 "cells": [
  {
   "cell_type": "markdown",
   "id": "2f2f89d9",
   "metadata": {},
   "source": []
  },
  {
   "cell_type": "code",
   "execution_count": 63,
   "id": "94e0e43b",
   "metadata": {},
   "outputs": [],
   "source": [
    "import numpy as np"
   ]
  },
  {
   "cell_type": "code",
   "execution_count": 88,
   "id": "ad774871",
   "metadata": {},
   "outputs": [
    {
     "data": {
      "text/plain": [
       "1.0"
      ]
     },
     "execution_count": 88,
     "metadata": {},
     "output_type": "execute_result"
    }
   ],
   "source": [
    "def f(m):\n",
    "    for i in m:\n",
    "        for j in m:\n",
    "            if i == j:\n",
    "                continue\n",
    "            else:\n",
    "                d = np.sqrt(i[0] ** 2 + j[0] ** 2 + 2 * i[0] * j[0] * np.cos(min(abs(i[1]-j[1]),2*np.pi-abs(i[1]-j[1]))))\n",
    "                if d<=np.sqrt(2):\n",
    "                    return True                \n",
    "    return False\n",
    "t = 100000\n",
    "n=0\n",
    "for i in range(0,t):\n",
    "    s = [[1.5 * np.random.random_sample(), 2 * np.pi * np.random.random_sample()] for i in range(0, 9)]\n",
    "    s.append([1.5,2 * np.pi * np.random.random_sample()])\n",
    "    if f(s):\n",
    "        n +=1\n",
    "    else:\n",
    "        print(s)\n",
    "p = n/t\n",
    "p"
   ]
  },
  {
   "cell_type": "code",
   "execution_count": 90,
   "id": "f64d1a89",
   "metadata": {},
   "outputs": [
    {
     "data": {
      "text/plain": [
       "1.1780972450961724"
      ]
     },
     "execution_count": 90,
     "metadata": {},
     "output_type": "execute_result"
    }
   ],
   "source": []
  },
  {
   "cell_type": "code",
   "execution_count": null,
   "id": "d1323196",
   "metadata": {},
   "outputs": [],
   "source": []
  }
 ],
 "metadata": {
  "kernelspec": {
   "display_name": "Python 3 (ipykernel)",
   "language": "python",
   "name": "python3"
  },
  "language_info": {
   "codemirror_mode": {
    "name": "ipython",
    "version": 3
   },
   "file_extension": ".py",
   "mimetype": "text/x-python",
   "name": "python",
   "nbconvert_exporter": "python",
   "pygments_lexer": "ipython3",
   "version": "3.11.4"
  }
 },
 "nbformat": 4,
 "nbformat_minor": 5
}
