{
 "cells": [
  {
   "cell_type": "code",
   "execution_count": 63,
   "id": "94e0e43b",
   "metadata": {},
   "outputs": [],
   "source": [
    "import numpy as np"
   ]
  },
  {
   "cell_type": "code",
   "execution_count": 74,
   "id": "ad774871",
   "metadata": {},
   "outputs": [
    {
     "name": "stdout",
     "output_type": "stream",
     "text": [
      "[[1.1444782793155273, 4.062615006956437], [1.2924113704929012, 4.557819939569645], [1.4194503192203065, 3.762630300246447], [0.6564804525644474, 5.20485920131594], [0.8858554893411539, 4.916526821640784], [1.2883768905242894, 4.089493184389562], [1.3330482577142115, 5.457423440262537], [1.4134789425716359, 5.123068833959793], [1.4045683321381854, 3.8041762634734417]]\n"
     ]
    },
    {
     "data": {
      "text/plain": [
       "0.99999"
      ]
     },
     "execution_count": 74,
     "metadata": {},
     "output_type": "execute_result"
    }
   ],
   "source": [
    "def f(m):\n",
    "    for i in m:\n",
    "        for j in m:\n",
    "            if i == j:\n",
    "                continue\n",
    "            else:\n",
    "                d = np.sqrt(i[0] ** 2 + j[0] ** 2 + 2 * i[0] * j[0] * np.cos(min(abs(i[1]-j[1]),2*np.pi*abs(i[1]-j[1]))))\n",
    "                if d<=np.sqrt(2):\n",
    "                    return True                \n",
    "    return False\n",
    "t = 100000\n",
    "n=0\n",
    "for i in range(0,t):\n",
    "    s = [[1.5 * np.random.random_sample(), 2 * np.pi * np.random.random_sample()] for i in range(0, 9)]\n",
    "    if f(s):\n",
    "        n +=1\n",
    "    else:\n",
    "        print(s)\n",
    "p = n/t\n",
    "p"
   ]
  },
  {
   "cell_type": "code",
   "execution_count": null,
   "id": "107dd6d3",
   "metadata": {},
   "outputs": [],
   "source": []
  },
  {
   "cell_type": "code",
   "execution_count": null,
   "id": "b0b28b2c",
   "metadata": {},
   "outputs": [],
   "source": []
  }
 ],
 "metadata": {
  "kernelspec": {
   "display_name": "Python 3 (ipykernel)",
   "language": "python",
   "name": "python3"
  },
  "language_info": {
   "codemirror_mode": {
    "name": "ipython",
    "version": 3
   },
   "file_extension": ".py",
   "mimetype": "text/x-python",
   "name": "python",
   "nbconvert_exporter": "python",
   "pygments_lexer": "ipython3",
   "version": "3.11.4"
  }
 },
 "nbformat": 4,
 "nbformat_minor": 5
}
