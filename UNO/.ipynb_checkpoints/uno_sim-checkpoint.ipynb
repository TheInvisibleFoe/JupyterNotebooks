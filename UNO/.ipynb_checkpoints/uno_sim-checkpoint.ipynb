{
 "cells": [
  {
   "cell_type": "code",
   "execution_count": 19,
   "id": "69f8e391-7b01-43ac-b395-60bfee1aa9de",
   "metadata": {},
   "outputs": [],
   "source": [
    "import numpy as np\n",
    "import matplotlib.pyplot as plt\n",
    "import random"
   ]
  },
  {
   "cell_type": "code",
   "execution_count": 32,
   "id": "94b136de-bb4f-4936-aead-beacea36bbb4",
   "metadata": {},
   "outputs": [],
   "source": [
    "#cards\n",
    "\n",
    "BC = np.asarray(['0b', '1b', '2b', '3b', '4b', '5b', '6b', '7b', '8b', '9b', '+2b', 'Reb',  'Skb'])\n",
    "RC = np.asarray(['0r', '1r', '2r', '3r', '4r', '5r', '6r', '7r', '8r', '9r', '+2r', 'Rer',  'Skr'])\n",
    "YC = np.asarray(['0y', '1y', '2y', '3y', '4y', '5y', '6y', '7y', '8y', '9y', '+2y', 'Rey',  'Sky'])\n",
    "GC = np.asarray(['0g', '1g', '2g', '3g', '4g', '5g', '6g', '7g', '8g', '9g', '+2g', 'Reg',  'Skg'])\n",
    "SC = np.asarray(['+4s','+4s','+4s','+4s','ws','ws','ws','ws','Bls','Bls','Bls','Sws'])\n",
    "ss = np.asarray(['+2','+2','Re','Re','Sk','Sk'])\n",
    "# for i in ss:\n",
    "#     Blue.append(f'{i:s}b')\n",
    "#     Red.append(f'{i:s}r')\n",
    "#     Yellow.append(f'{i:s}y')\n",
    "#     Green.append(f'{i:s}g')\n",
    "AC = np.concatenate((BC,BC,YC,YC,RC,RC,GC,GC,SC))"
   ]
  },
  {
   "cell_type": "code",
   "execution_count": 39,
   "id": "3ee2e54d-4db7-48bb-bad3-53496af6e6f8",
   "metadata": {},
   "outputs": [],
   "source": [
    "def deal_cards(AC,num,nop):\n",
    "    Pd = []\n",
    "    for i in range(0,nop):\n",
    "        Pd.append(np.random.choice(AC,num))\n",
    "    Pd = np.asarray(Pd)\n",
    "    return Pd"
   ]
  },
  {
   "cell_type": "code",
   "execution_count": 40,
   "id": "b74f2187-da45-4213-9f3a-29a9cd17fd6c",
   "metadata": {},
   "outputs": [
    {
     "data": {
      "text/plain": [
       "array([['Rey', 'Reg', '8r', '9r', '0g', '+2g', '2r'],\n",
       "       ['3g', '7b', '+4s', '5g', '2g', 'ws', 'Rey']], dtype='<U3')"
      ]
     },
     "execution_count": 40,
     "metadata": {},
     "output_type": "execute_result"
    }
   ],
   "source": [
    "deal_cards(AC,7,2)"
   ]
  },
  {
   "cell_type": "code",
   "execution_count": 31,
   "id": "9b918d26-594f-4869-91de-c033190cc159",
   "metadata": {},
   "outputs": [
    {
     "data": {
      "text/plain": [
       "12"
      ]
     },
     "execution_count": 31,
     "metadata": {},
     "output_type": "execute_result"
    }
   ],
   "source": [
    "len(SC)"
   ]
  },
  {
   "cell_type": "code",
   "execution_count": 45,
   "id": "481f3f12-eaa4-44b0-8a74-bdabedc6ddc0",
   "metadata": {},
   "outputs": [
    {
     "ename": "TypeError",
     "evalue": "only integer scalar arrays can be converted to a scalar index",
     "output_type": "error",
     "traceback": [
      "\u001b[0;31m---------------------------------------------------------------------------\u001b[0m",
      "\u001b[0;31mTypeError\u001b[0m                                 Traceback (most recent call last)",
      "Cell \u001b[0;32mIn[45], line 2\u001b[0m\n\u001b[1;32m      1\u001b[0m AC \u001b[38;5;241m=\u001b[39m \u001b[38;5;28mlist\u001b[39m(AC)\n\u001b[0;32m----> 2\u001b[0m AC\u001b[38;5;241m.\u001b[39mpop(np\u001b[38;5;241m.\u001b[39mrandom\u001b[38;5;241m.\u001b[39mchoice(AC,\u001b[38;5;241m2\u001b[39m))\n",
      "\u001b[0;31mTypeError\u001b[0m: only integer scalar arrays can be converted to a scalar index"
     ]
    }
   ],
   "source": [
    "AC = list(AC)\n",
    "AC.pop(np.random.choice(AC,2))"
   ]
  },
  {
   "cell_type": "code",
   "execution_count": null,
   "id": "82da6835-de8f-4034-ae47-1758dd083a0e",
   "metadata": {},
   "outputs": [],
   "source": []
  }
 ],
 "metadata": {
  "kernelspec": {
   "display_name": "Python 3 (ipykernel)",
   "language": "python",
   "name": "python3"
  },
  "language_info": {
   "codemirror_mode": {
    "name": "ipython",
    "version": 3
   },
   "file_extension": ".py",
   "mimetype": "text/x-python",
   "name": "python",
   "nbconvert_exporter": "python",
   "pygments_lexer": "ipython3",
   "version": "3.12.8"
  }
 },
 "nbformat": 4,
 "nbformat_minor": 5
}
