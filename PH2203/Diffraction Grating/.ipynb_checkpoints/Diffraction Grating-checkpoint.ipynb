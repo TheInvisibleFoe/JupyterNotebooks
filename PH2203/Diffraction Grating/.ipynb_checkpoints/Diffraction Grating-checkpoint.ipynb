{
 "cells": [
  {
   "cell_type": "markdown",
   "id": "01019b3f",
   "metadata": {},
   "source": [
    "# Diffraction Grating "
   ]
  },
  {
   "cell_type": "code",
   "execution_count": 2,
   "id": "eca10255",
   "metadata": {},
   "outputs": [],
   "source": [
    "import numpy as np\n",
    "import pandas as pd"
   ]
  },
  {
   "cell_type": "markdown",
   "id": "b02e3562",
   "metadata": {},
   "source": [
    "## Finding out the slit width\n",
    "\n",
    "We are using a red laser to find out the slit width of the diffraction grating."
   ]
  },
  {
   "cell_type": "markdown",
   "id": "0d800f9b",
   "metadata": {},
   "source": [
    "### Working Formula\n",
    "\n",
    "$kd\\sin(\\theta) = 2n\\pi \\\\ d \\sin(\\theta) = m\\lambda$"
   ]
  },
  {
   "cell_type": "code",
   "execution_count": 3,
   "id": "5861efd8",
   "metadata": {},
   "outputs": [],
   "source": [
    "wl = 655*10**(-9)"
   ]
  },
  {
   "cell_type": "code",
   "execution_count": 10,
   "id": "0c0216d6",
   "metadata": {},
   "outputs": [
    {
     "data": {
      "text/html": [
       "<div>\n",
       "<style scoped>\n",
       "    .dataframe tbody tr th:only-of-type {\n",
       "        vertical-align: middle;\n",
       "    }\n",
       "\n",
       "    .dataframe tbody tr th {\n",
       "        vertical-align: top;\n",
       "    }\n",
       "\n",
       "    .dataframe thead th {\n",
       "        text-align: right;\n",
       "    }\n",
       "</style>\n",
       "<table border=\"1\" class=\"dataframe\">\n",
       "  <thead>\n",
       "    <tr style=\"text-align: right;\">\n",
       "      <th></th>\n",
       "      <th>LC</th>\n",
       "      <th>VD</th>\n",
       "      <th>LC*VD</th>\n",
       "      <th>total reading</th>\n",
       "      <th>order</th>\n",
       "      <th>slit width(in microns)</th>\n",
       "    </tr>\n",
       "  </thead>\n",
       "  <tbody>\n",
       "    <tr>\n",
       "      <th>1</th>\n",
       "      <td>0.01667</td>\n",
       "      <td>22.0</td>\n",
       "      <td>0.36674</td>\n",
       "      <td>346.36674</td>\n",
       "      <td>1</td>\n",
       "      <td>9.468604</td>\n",
       "    </tr>\n",
       "    <tr>\n",
       "      <th>2</th>\n",
       "      <td>0.01667</td>\n",
       "      <td>20.0</td>\n",
       "      <td>0.33340</td>\n",
       "      <td>342.33340</td>\n",
       "      <td>2</td>\n",
       "      <td>9.412738</td>\n",
       "    </tr>\n",
       "    <tr>\n",
       "      <th>3</th>\n",
       "      <td>0.01667</td>\n",
       "      <td>22.0</td>\n",
       "      <td>0.36674</td>\n",
       "      <td>338.36674</td>\n",
       "      <td>3</td>\n",
       "      <td>9.477074</td>\n",
       "    </tr>\n",
       "    <tr>\n",
       "      <th>5</th>\n",
       "      <td>0.01667</td>\n",
       "      <td>17.0</td>\n",
       "      <td>0.28339</td>\n",
       "      <td>174.28339</td>\n",
       "      <td>1</td>\n",
       "      <td>9.389810</td>\n",
       "    </tr>\n",
       "    <tr>\n",
       "      <th>6</th>\n",
       "      <td>0.01667</td>\n",
       "      <td>12.0</td>\n",
       "      <td>0.20004</td>\n",
       "      <td>178.20004</td>\n",
       "      <td>2</td>\n",
       "      <td>9.511198</td>\n",
       "    </tr>\n",
       "    <tr>\n",
       "      <th>7</th>\n",
       "      <td>0.01667</td>\n",
       "      <td>18.0</td>\n",
       "      <td>0.30006</td>\n",
       "      <td>182.30006</td>\n",
       "      <td>3</td>\n",
       "      <td>9.438209</td>\n",
       "    </tr>\n",
       "  </tbody>\n",
       "</table>\n",
       "</div>"
      ],
      "text/plain": [
       "        LC    VD    LC*VD  total reading order  slit width(in microns)\n",
       "1  0.01667  22.0  0.36674      346.36674     1                9.468604\n",
       "2  0.01667  20.0  0.33340      342.33340     2                9.412738\n",
       "3  0.01667  22.0  0.36674      338.36674     3                9.477074\n",
       "5  0.01667  17.0  0.28339      174.28339     1                9.389810\n",
       "6  0.01667  12.0  0.20004      178.20004     2                9.511198\n",
       "7  0.01667  18.0  0.30006      182.30006     3                9.438209"
      ]
     },
     "execution_count": 10,
     "metadata": {},
     "output_type": "execute_result"
    }
   ],
   "source": [
    "l = pd.read_csv(\"Diffraction Grating - Sheet1.csv\",header = 1,usecols = [1,2,3,4,7,8]).dropna()\n",
    "# l = l.dropna()\n",
    "l"
   ]
  },
  {
   "cell_type": "code",
   "execution_count": 11,
   "id": "b200bc26",
   "metadata": {},
   "outputs": [
    {
     "ename": "KeyError",
     "evalue": "'theta_diff'",
     "output_type": "error",
     "traceback": [
      "\u001b[0;31m---------------------------------------------------------------------------\u001b[0m",
      "\u001b[0;31mKeyError\u001b[0m                                  Traceback (most recent call last)",
      "File \u001b[0;32m~/miniconda3/envs/jupyter/lib/python3.11/site-packages/pandas/core/indexes/base.py:3791\u001b[0m, in \u001b[0;36mIndex.get_loc\u001b[0;34m(self, key)\u001b[0m\n\u001b[1;32m   3790\u001b[0m \u001b[38;5;28;01mtry\u001b[39;00m:\n\u001b[0;32m-> 3791\u001b[0m     \u001b[38;5;28;01mreturn\u001b[39;00m \u001b[38;5;28mself\u001b[39m\u001b[38;5;241m.\u001b[39m_engine\u001b[38;5;241m.\u001b[39mget_loc(casted_key)\n\u001b[1;32m   3792\u001b[0m \u001b[38;5;28;01mexcept\u001b[39;00m \u001b[38;5;167;01mKeyError\u001b[39;00m \u001b[38;5;28;01mas\u001b[39;00m err:\n",
      "File \u001b[0;32mindex.pyx:152\u001b[0m, in \u001b[0;36mpandas._libs.index.IndexEngine.get_loc\u001b[0;34m()\u001b[0m\n",
      "File \u001b[0;32mindex.pyx:181\u001b[0m, in \u001b[0;36mpandas._libs.index.IndexEngine.get_loc\u001b[0;34m()\u001b[0m\n",
      "File \u001b[0;32mpandas/_libs/hashtable_class_helper.pxi:7080\u001b[0m, in \u001b[0;36mpandas._libs.hashtable.PyObjectHashTable.get_item\u001b[0;34m()\u001b[0m\n",
      "File \u001b[0;32mpandas/_libs/hashtable_class_helper.pxi:7088\u001b[0m, in \u001b[0;36mpandas._libs.hashtable.PyObjectHashTable.get_item\u001b[0;34m()\u001b[0m\n",
      "\u001b[0;31mKeyError\u001b[0m: 'theta_diff'",
      "\nThe above exception was the direct cause of the following exception:\n",
      "\u001b[0;31mKeyError\u001b[0m                                  Traceback (most recent call last)",
      "Cell \u001b[0;32mIn[11], line 1\u001b[0m\n\u001b[0;32m----> 1\u001b[0m l[\u001b[38;5;124m\"\u001b[39m\u001b[38;5;124mtheta_diff\u001b[39m\u001b[38;5;124m\"\u001b[39m],l[\u001b[38;5;124m\"\u001b[39m\u001b[38;5;124morder\u001b[39m\u001b[38;5;124m\"\u001b[39m]\n",
      "File \u001b[0;32m~/miniconda3/envs/jupyter/lib/python3.11/site-packages/pandas/core/frame.py:3893\u001b[0m, in \u001b[0;36mDataFrame.__getitem__\u001b[0;34m(self, key)\u001b[0m\n\u001b[1;32m   3891\u001b[0m \u001b[38;5;28;01mif\u001b[39;00m \u001b[38;5;28mself\u001b[39m\u001b[38;5;241m.\u001b[39mcolumns\u001b[38;5;241m.\u001b[39mnlevels \u001b[38;5;241m>\u001b[39m \u001b[38;5;241m1\u001b[39m:\n\u001b[1;32m   3892\u001b[0m     \u001b[38;5;28;01mreturn\u001b[39;00m \u001b[38;5;28mself\u001b[39m\u001b[38;5;241m.\u001b[39m_getitem_multilevel(key)\n\u001b[0;32m-> 3893\u001b[0m indexer \u001b[38;5;241m=\u001b[39m \u001b[38;5;28mself\u001b[39m\u001b[38;5;241m.\u001b[39mcolumns\u001b[38;5;241m.\u001b[39mget_loc(key)\n\u001b[1;32m   3894\u001b[0m \u001b[38;5;28;01mif\u001b[39;00m is_integer(indexer):\n\u001b[1;32m   3895\u001b[0m     indexer \u001b[38;5;241m=\u001b[39m [indexer]\n",
      "File \u001b[0;32m~/miniconda3/envs/jupyter/lib/python3.11/site-packages/pandas/core/indexes/base.py:3798\u001b[0m, in \u001b[0;36mIndex.get_loc\u001b[0;34m(self, key)\u001b[0m\n\u001b[1;32m   3793\u001b[0m     \u001b[38;5;28;01mif\u001b[39;00m \u001b[38;5;28misinstance\u001b[39m(casted_key, \u001b[38;5;28mslice\u001b[39m) \u001b[38;5;129;01mor\u001b[39;00m (\n\u001b[1;32m   3794\u001b[0m         \u001b[38;5;28misinstance\u001b[39m(casted_key, abc\u001b[38;5;241m.\u001b[39mIterable)\n\u001b[1;32m   3795\u001b[0m         \u001b[38;5;129;01mand\u001b[39;00m \u001b[38;5;28many\u001b[39m(\u001b[38;5;28misinstance\u001b[39m(x, \u001b[38;5;28mslice\u001b[39m) \u001b[38;5;28;01mfor\u001b[39;00m x \u001b[38;5;129;01min\u001b[39;00m casted_key)\n\u001b[1;32m   3796\u001b[0m     ):\n\u001b[1;32m   3797\u001b[0m         \u001b[38;5;28;01mraise\u001b[39;00m InvalidIndexError(key)\n\u001b[0;32m-> 3798\u001b[0m     \u001b[38;5;28;01mraise\u001b[39;00m \u001b[38;5;167;01mKeyError\u001b[39;00m(key) \u001b[38;5;28;01mfrom\u001b[39;00m \u001b[38;5;21;01merr\u001b[39;00m\n\u001b[1;32m   3799\u001b[0m \u001b[38;5;28;01mexcept\u001b[39;00m \u001b[38;5;167;01mTypeError\u001b[39;00m:\n\u001b[1;32m   3800\u001b[0m     \u001b[38;5;66;03m# If we have a listlike key, _check_indexing_error will raise\u001b[39;00m\n\u001b[1;32m   3801\u001b[0m     \u001b[38;5;66;03m#  InvalidIndexError. Otherwise we fall through and re-raise\u001b[39;00m\n\u001b[1;32m   3802\u001b[0m     \u001b[38;5;66;03m#  the TypeError.\u001b[39;00m\n\u001b[1;32m   3803\u001b[0m     \u001b[38;5;28mself\u001b[39m\u001b[38;5;241m.\u001b[39m_check_indexing_error(key)\n",
      "\u001b[0;31mKeyError\u001b[0m: 'theta_diff'"
     ]
    }
   ],
   "source": [
    "l[\"theta_diff\"],l[\"order\"]"
   ]
  },
  {
   "cell_type": "code",
   "execution_count": 142,
   "id": "20f22b57",
   "metadata": {},
   "outputs": [
    {
     "data": {
      "text/plain": [
       "(array([ 3.96666,  8.     , 11.96666,  4.     ,  7.91665, 12.01667]),\n",
       " array([1, 2, 3, 1, 2, 3]))"
      ]
     },
     "execution_count": 142,
     "metadata": {},
     "output_type": "execute_result"
    }
   ],
   "source": [
    "angle_values  = np.array(l[\"theta_diff\"])\n",
    "order = np.array(l['order'])\n",
    "angle_values,order"
   ]
  },
  {
   "cell_type": "code",
   "execution_count": 143,
   "id": "34b040b7",
   "metadata": {},
   "outputs": [],
   "source": [
    "def slit_w(m,t):\n",
    "    t *= np.pi/180\n",
    "    return m*wl/np.sin(t)"
   ]
  },
  {
   "cell_type": "code",
   "execution_count": 144,
   "id": "220ffa54",
   "metadata": {},
   "outputs": [
    {
     "data": {
      "text/plain": [
       "array([9.46860365, 9.41273846, 9.47707394, 9.3898095 , 9.51119848,\n",
       "       9.43820941])"
      ]
     },
     "execution_count": 144,
     "metadata": {},
     "output_type": "execute_result"
    }
   ],
   "source": [
    "# slit width in microns\n",
    "sw = np.array([slit_w(order[i],angle_values[i])*10**(6) for i in range(6)])\n",
    "sw"
   ]
  },
  {
   "cell_type": "code",
   "execution_count": 153,
   "id": "d6e3fc47",
   "metadata": {},
   "outputs": [
    {
     "data": {
      "text/plain": [
       "(9.449605574236335, 0.04466262652328466)"
      ]
     },
     "execution_count": 153,
     "metadata": {},
     "output_type": "execute_result"
    }
   ],
   "source": [
    "avg_sw = np.average(sw)\n",
    "std_sw = np.std(sw,ddof=1)\n",
    "avg_sw,std_sw"
   ]
  },
  {
   "cell_type": "markdown",
   "id": "3b5efa73",
   "metadata": {},
   "source": [
    "## Finding out the wavelength of the green laser"
   ]
  },
  {
   "cell_type": "code",
   "execution_count": 146,
   "id": "97001212",
   "metadata": {},
   "outputs": [
    {
     "data": {
      "text/html": [
       "<div>\n",
       "<style scoped>\n",
       "    .dataframe tbody tr th:only-of-type {\n",
       "        vertical-align: middle;\n",
       "    }\n",
       "\n",
       "    .dataframe tbody tr th {\n",
       "        vertical-align: top;\n",
       "    }\n",
       "\n",
       "    .dataframe thead th {\n",
       "        text-align: right;\n",
       "    }\n",
       "</style>\n",
       "<table border=\"1\" class=\"dataframe\">\n",
       "  <thead>\n",
       "    <tr style=\"text-align: right;\">\n",
       "      <th></th>\n",
       "      <th>MSD</th>\n",
       "      <th>LC</th>\n",
       "      <th>VD</th>\n",
       "      <th>LC*VD</th>\n",
       "      <th>total reading</th>\n",
       "      <th>theta_diff</th>\n",
       "      <th>order</th>\n",
       "    </tr>\n",
       "  </thead>\n",
       "  <tbody>\n",
       "    <tr>\n",
       "      <th>1</th>\n",
       "      <td>173.5</td>\n",
       "      <td>0.01667</td>\n",
       "      <td>9.0</td>\n",
       "      <td>0.15003</td>\n",
       "      <td>173.65003</td>\n",
       "      <td>3.31673</td>\n",
       "      <td>1.0</td>\n",
       "    </tr>\n",
       "    <tr>\n",
       "      <th>2</th>\n",
       "      <td>170.5</td>\n",
       "      <td>0.01667</td>\n",
       "      <td>7.0</td>\n",
       "      <td>0.11669</td>\n",
       "      <td>170.61669</td>\n",
       "      <td>6.35007</td>\n",
       "      <td>2.0</td>\n",
       "    </tr>\n",
       "    <tr>\n",
       "      <th>3</th>\n",
       "      <td>167.0</td>\n",
       "      <td>0.01667</td>\n",
       "      <td>24.0</td>\n",
       "      <td>0.40008</td>\n",
       "      <td>167.40008</td>\n",
       "      <td>9.56668</td>\n",
       "      <td>3.0</td>\n",
       "    </tr>\n",
       "    <tr>\n",
       "      <th>8</th>\n",
       "      <td>182.0</td>\n",
       "      <td>0.01667</td>\n",
       "      <td>23.0</td>\n",
       "      <td>0.38341</td>\n",
       "      <td>182.38341</td>\n",
       "      <td>3.18337</td>\n",
       "      <td>1.0</td>\n",
       "    </tr>\n",
       "    <tr>\n",
       "      <th>9</th>\n",
       "      <td>185.5</td>\n",
       "      <td>0.01667</td>\n",
       "      <td>10.0</td>\n",
       "      <td>0.16670</td>\n",
       "      <td>185.66670</td>\n",
       "      <td>6.46666</td>\n",
       "      <td>2.0</td>\n",
       "    </tr>\n",
       "    <tr>\n",
       "      <th>10</th>\n",
       "      <td>188.5</td>\n",
       "      <td>0.01667</td>\n",
       "      <td>15.0</td>\n",
       "      <td>0.25005</td>\n",
       "      <td>188.75005</td>\n",
       "      <td>9.55001</td>\n",
       "      <td>3.0</td>\n",
       "    </tr>\n",
       "  </tbody>\n",
       "</table>\n",
       "</div>"
      ],
      "text/plain": [
       "      MSD       LC    VD    LC*VD  total reading  theta_diff  order\n",
       "1   173.5  0.01667   9.0  0.15003      173.65003     3.31673    1.0\n",
       "2   170.5  0.01667   7.0  0.11669      170.61669     6.35007    2.0\n",
       "3   167.0  0.01667  24.0  0.40008      167.40008     9.56668    3.0\n",
       "8   182.0  0.01667  23.0  0.38341      182.38341     3.18337    1.0\n",
       "9   185.5  0.01667  10.0  0.16670      185.66670     6.46666    2.0\n",
       "10  188.5  0.01667  15.0  0.25005      188.75005     9.55001    3.0"
      ]
     },
     "execution_count": 146,
     "metadata": {},
     "output_type": "execute_result"
    }
   ],
   "source": [
    "l2 =pd.read_excel(\"Diffraction Grating.xlsx\",sheet_name=1,header=1,usecols=\"A:E,G:H\",nrows = 12).dropna()\n",
    "l2"
   ]
  },
  {
   "cell_type": "code",
   "execution_count": 147,
   "id": "a59ce5e5",
   "metadata": {},
   "outputs": [
    {
     "data": {
      "text/plain": [
       "(array([3.31673, 6.35007, 9.56668, 3.18337, 6.46666, 9.55001]),\n",
       " array([1., 2., 3., 1., 2., 3.]))"
      ]
     },
     "execution_count": 147,
     "metadata": {},
     "output_type": "execute_result"
    }
   ],
   "source": [
    "angle_values2  = np.array(l2[\"theta_diff\"])\n",
    "order2 = np.array(l2['order'])\n",
    "angle_values2,order2"
   ]
  },
  {
   "cell_type": "code",
   "execution_count": 150,
   "id": "e19648d7",
   "metadata": {},
   "outputs": [],
   "source": [
    "def wl(m,t):\n",
    "    t *= np.pi/180\n",
    "    return avg_sw*10**(-6)*np.sin(t)/m"
   ]
  },
  {
   "cell_type": "code",
   "execution_count": 151,
   "id": "a7dd6042",
   "metadata": {},
   "outputs": [
    {
     "data": {
      "text/plain": [
       "array([546.7119757 , 522.57678623, 523.49340352, 524.75272761,\n",
       "       532.13111401, 522.58968361])"
      ]
     },
     "execution_count": 151,
     "metadata": {},
     "output_type": "execute_result"
    }
   ],
   "source": [
    "wl1 = np.array([wl(order2[i],angle_values2[i])*10**(9) for i in range(6)])\n",
    "wl1"
   ]
  },
  {
   "cell_type": "code",
   "execution_count": 155,
   "id": "78a637e1",
   "metadata": {},
   "outputs": [
    {
     "data": {
      "text/plain": [
       "(528.7092817789618, 9.525991966447663)"
      ]
     },
     "execution_count": 155,
     "metadata": {},
     "output_type": "execute_result"
    }
   ],
   "source": [
    "avg_wl = np.average(wl1)\n",
    "std_wl = np.std(wl1,ddof=1)\n",
    "avg_wl,std_wl"
   ]
  },
  {
   "cell_type": "markdown",
   "id": "61ce9c67",
   "metadata": {},
   "source": [
    "## Conclusion of the experiment\n",
    "\n",
    "For experiment 1,\n",
    "\n",
    "Average slit width = $9.449605574236335 \\mu$m \n",
    "\n",
    "Standard Deviation = $0.04466262652328466$\n",
    "\n",
    "For experiment 2,\n",
    "\n",
    "Average wavelength = $528.7092817789618$ nm\n",
    "\n",
    "Standard Deviation = $9.525991966447663$"
   ]
  }
 ],
 "metadata": {
  "kernelspec": {
   "display_name": "Python 3 (ipykernel)",
   "language": "python",
   "name": "python3"
  },
  "language_info": {
   "codemirror_mode": {
    "name": "ipython",
    "version": 3
   },
   "file_extension": ".py",
   "mimetype": "text/x-python",
   "name": "python",
   "nbconvert_exporter": "python",
   "pygments_lexer": "ipython3",
   "version": "3.11.4"
  }
 },
 "nbformat": 4,
 "nbformat_minor": 5
}
