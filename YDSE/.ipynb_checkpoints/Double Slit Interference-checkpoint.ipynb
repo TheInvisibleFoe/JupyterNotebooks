{
 "cells": [
  {
   "cell_type": "code",
   "execution_count": 4,
   "id": "supported-shelter",
   "metadata": {},
   "outputs": [],
   "source": [
    "import numpy as np\n",
    "import matplotlib.pyplot as plt\n",
    "import matplotlib as mpl\n",
    "import matplotlib.animation as anim\n",
    "# np.set_printoptions(threshold=sys.maxsize)\n",
    "x_l = 20\n",
    "y_l = 5\n",
    "points = 1000\n",
    "x = np.linspace(0,x_l,points)\n",
    "y = np.linspace(-y_l,y_l,points)\n",
    "gridx , gridy = np.meshgrid(x,y)"
   ]
  },
  {
   "cell_type": "code",
   "execution_count": 5,
   "id": "coated-japan",
   "metadata": {},
   "outputs": [],
   "source": [
    "d = 2\n",
    "A = 50\n",
    "omg = 5\n",
    "k=5\n",
    "dist_y_1 = gridy+d\n",
    "dist_y_2 = gridy-d"
   ]
  },
  {
   "cell_type": "code",
   "execution_count": 6,
   "id": "c92635d2",
   "metadata": {},
   "outputs": [],
   "source": [
    "t=0\n",
    "dist_1 = np.sqrt(gridx**2+dist_y_1**2)\n",
    "dist_2 = np.sqrt(gridx**2+dist_y_2**2)\n",
    "def wave1(t):\n",
    "    return A * np.sin(k*dist_1 - omg* t)\n",
    "def wave2(t):\n",
    "    return A * np.sin(k*dist_2 - omg * t)\n",
    "def wave(t):\n",
    "    return wave1(t)+wave2(t)"
   ]
  },
  {
   "cell_type": "code",
   "execution_count": null,
   "id": "2c711308",
   "metadata": {},
   "outputs": [],
   "source": [
    "fig,axes = plt.subplots(figsize = (16,9),dpi =400)\n",
    "axes.set_xlim(0,19)\n",
    "axes.set_ylim(-4.9,4.9)\n",
    "axes.scatter(gridx,gridy,c=wave(0),cmap = \"Blues\")\n",
    "plt.savefig(\"YDSE.svg\")"
   ]
  },
  {
   "cell_type": "code",
   "execution_count": 1,
   "id": "fb537fc6",
   "metadata": {},
   "outputs": [],
   "source": [
    "# plt.xlim(0,19)\n",
    "# plt.ylim(-4.9,4.9)\n",
    "# wave_1 = wave1(0)\n",
    "# fig, axes = plt.subplots(figsize = (16, 9))\n",
    "# waves = axes.scatter(gridx,gridy,c=wave1(0),cmap = \"Blues\")\n",
    "# def wave1p(t):\n",
    "#     wave_1 = wave1(t)\n",
    "#     waves = waves.set_cdata(wave_1)\n",
    "#     return(waves)\n",
    "# ani = anim.FuncAnimation(fig, wave1p, frames = 190, fargs = (0.1),interval = 30, blit = True)\n",
    "# plt.show()"
   ]
  }
 ],
 "metadata": {
  "kernelspec": {
   "display_name": "Python 3 (ipykernel)",
   "language": "python",
   "name": "python3"
  },
  "language_info": {
   "codemirror_mode": {
    "name": "ipython",
    "version": 3
   },
   "file_extension": ".py",
   "mimetype": "text/x-python",
   "name": "python",
   "nbconvert_exporter": "python",
   "pygments_lexer": "ipython3",
   "version": "3.11.4"
  }
 },
 "nbformat": 4,
 "nbformat_minor": 5
}
