{
 "cells": [
  {
   "cell_type": "markdown",
   "id": "8cdc3682",
   "metadata": {},
   "source": [
    "# Hamiltonian Phase Flows\n",
    "\n",
    "$\\dfrac{d^2 y}{d x^2} = -\\omega^2 y$"
   ]
  },
  {
   "cell_type": "code",
   "execution_count": 1,
   "id": "47cb0af9",
   "metadata": {},
   "outputs": [
    {
     "data": {
      "text/html": [
       "<html>\\(\\displaystyle \\left(e^{\\left(-x\\right)} + e^{x}, -e^{\\left(-x\\right)} + e^{x}\\right)\\)</html>"
      ],
      "text/latex": [
       "$\\displaystyle \\left(e^{\\left(-x\\right)} + e^{x}, -e^{\\left(-x\\right)} + e^{x}\\right)$"
      ],
      "text/plain": [
       "(e^(-x) + e^x, -e^(-x) + e^x)"
      ]
     },
     "execution_count": 1,
     "metadata": {},
     "output_type": "execute_result"
    }
   ],
   "source": [
    "%display latex\n",
    "x = var('x')\n",
    "k = i\n",
    "y = function('y')(x)\n",
    "g = function('g')(x)\n",
    "h = function('h')(x)\n",
    "f = diff(diff(y,x),x)+ k^2 *y\n",
    "g = desolve(f,[y,x],ics=[0,2,0])\n",
    "h = diff(g,x)\n",
    "g,h"
   ]
  },
  {
   "cell_type": "code",
   "execution_count": 98,
   "id": "d381b200",
   "metadata": {},
   "outputs": [
    {
     "data": {
      "image/png": "[encoded data removed]",
      "text/plain": [
       "Graphics object consisting of 1 graphics primitive"
      ]
     },
     "metadata": {},
     "output_type": "display_data"
    }
   ],
   "source": [
    "t = var('t')\n",
    "parametric_plot((g,h),(x,-1,1),rgbcolor=hue(0.6)).show(aspect_ratio =1/2)"
   ]
  },
  {
   "cell_type": "code",
   "execution_count": 187,
   "id": "5122209a",
   "metadata": {},
   "outputs": [
    {
     "data": {
      "text/html": [
       "<html>\\(\\displaystyle K_{1} r^{8} + \\frac{K_{2}}{r^{9}}\\)</html>"
      ],
      "text/latex": [
       "$\\displaystyle K_{1} r^{8} + \\frac{K_{2}}{r^{9}}$"
      ],
      "text/plain": [
       "_K1*r^8 + _K2/r^9"
      ]
     },
     "execution_count": 187,
     "metadata": {},
     "output_type": "execute_result"
    }
   ],
   "source": [
    "r,v = var('r,v')\n",
    "v =8\n",
    "R = function('R')(r)\n",
    "d = function('d')(r)\n",
    "d = diff(r^2*diff(R,r),r)-v*(v+1)*R\n",
    "desolve(d,[R,r])"
   ]
  },
  {
   "cell_type": "code",
   "execution_count": 167,
   "id": "acda9507",
   "metadata": {},
   "outputs": [
    {
     "data": {
      "text/html": [
       "<html>\\(\\displaystyle \\frac{3}{2} \\, x^{2} - \\frac{1}{2}\\)</html>"
      ],
      "text/latex": [
       "$\\displaystyle \\frac{3}{2} \\, x^{2} - \\frac{1}{2}$"
      ],
      "text/plain": [
       "3/2*x^2 - 1/2"
      ]
     },
     "metadata": {},
     "output_type": "display_data"
    },
    {
     "data": {
      "text/html": [
       "<html>\\(\\displaystyle \\frac{1}{2} \\, \\log\\left(x + 1\\right) - \\frac{1}{2} \\, \\log\\left(-x + 1\\right)\\)</html>"
      ],
      "text/latex": [
       "$\\displaystyle \\frac{1}{2} \\, \\log\\left(x + 1\\right) - \\frac{1}{2} \\, \\log\\left(-x + 1\\right)$"
      ],
      "text/plain": [
       "1/2*log(x + 1) - 1/2*log(-x + 1)"
      ]
     },
     "metadata": {},
     "output_type": "display_data"
    }
   ],
   "source": [
    "gen_legendre_P(2,0,x).show()\n",
    "gen_legendre_Q(0,0,x).show()"
   ]
  },
  {
   "cell_type": "markdown",
   "id": "24ecff46",
   "metadata": {},
   "source": [
    "# Angular Part of the Laplacian"
   ]
  },
  {
   "cell_type": "code",
   "execution_count": 213,
   "id": "112607f2",
   "metadata": {},
   "outputs": [
    {
     "data": {
      "text/html": [
       "<html>\\(\\displaystyle t \\ {\\mapsto}\\ \\frac{63}{8} \\, \\cos\\left(t\\right)^{5} - \\frac{35}{4} \\, \\cos\\left(t\\right)^{3} + \\frac{15}{8} \\, \\cos\\left(t\\right)\\)</html>"
      ],
      "text/latex": [
       "$\\displaystyle t \\ {\\mapsto}\\ \\frac{63}{8} \\, \\cos\\left(t\\right)^{5} - \\frac{35}{4} \\, \\cos\\left(t\\right)^{3} + \\frac{15}{8} \\, \\cos\\left(t\\right)$"
      ],
      "text/plain": [
       "t |--> 63/8*cos(t)^5 - 35/4*cos(t)^3 + 15/8*cos(t)"
      ]
     },
     "metadata": {},
     "output_type": "display_data"
    },
    {
     "data": {
      "text/html": [
       "<html>\\(\\displaystyle 0\\)</html>"
      ],
      "text/latex": [
       "$\\displaystyle 0$"
      ],
      "text/plain": [
       "0"
      ]
     },
     "metadata": {},
     "output_type": "display_data"
    }
   ],
   "source": [
    "t,o = var('t , o')\n",
    "l = 5\n",
    "mt = function('m')(t)\n",
    "dt = function('d')(t)\n",
    "dt = diff((sin(t)*diff(mt,t)),t)+ l*(l+1)*sin(t)*mt\n",
    "m0 (t)= gen_legendre_P(l,0,cos(t))\n",
    "m0.show()\n",
    "dt.substitute_function(m,m0).full_simplify().show()"
   ]
  },
  {
   "cell_type": "code",
   "execution_count": null,
   "id": "31247c54",
   "metadata": {},
   "outputs": [],
   "source": []
  },
  {
   "cell_type": "code",
   "execution_count": null,
   "id": "63e5edd3",
   "metadata": {},
   "outputs": [],
   "source": []
  }
 ],
 "metadata": {
  "kernelspec": {
   "display_name": "SageMath 10.2",
   "language": "sage",
   "name": "sagemath"
  },
  "language_info": {
   "codemirror_mode": {
    "name": "ipython",
    "version": 3
   },
   "file_extension": ".py",
   "mimetype": "text/x-python",
   "name": "python",
   "nbconvert_exporter": "python",
   "pygments_lexer": "ipython3",
   "version": "3.11.4"
  }
 },
 "nbformat": 4,
 "nbformat_minor": 5
}
