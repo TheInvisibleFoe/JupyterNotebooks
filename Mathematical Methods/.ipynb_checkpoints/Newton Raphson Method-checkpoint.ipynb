{
 "cells": [
  {
   "cell_type": "code",
   "execution_count": 79,
   "id": "c59588a2",
   "metadata": {},
   "outputs": [],
   "source": [
    "import numpy as np\n",
    "import matplotlib.pyplot as plt\n",
    "import sympy as smp\n",
    "from sympy import init_printing\n",
    "init_printing()\n",
    "%matplotlib inline"
   ]
  },
  {
   "cell_type": "code",
   "execution_count": 81,
   "id": "091fdb12",
   "metadata": {},
   "outputs": [
    {
     "data": {
      "image/png": "[encoded data removed]",
      "text/latex": [
       "$\\displaystyle 3 x^{2} - 2$"
      ],
      "text/plain": [
       "   2    \n",
       "3⋅x  - 2"
      ]
     },
     "execution_count": 81,
     "metadata": {},
     "output_type": "execute_result"
    }
   ],
   "source": [
    "x = smp.symbols(\"x\",real = True)\n",
    "# y = (x+2)*(x-3)*(x-4)*(x+2)\n",
    "y= x**3 -2*x+2\n",
    "def f(x):\n",
    "    return (x+2)*(x-3)\n",
    "d = smp.diff(y,x)\n",
    "d"
   ]
  },
  {
   "cell_type": "code",
   "execution_count": 82,
   "id": "6e31a9d4",
   "metadata": {},
   "outputs": [
    {
     "data": {
      "image/png": "[encoded data removed]",
      "text/latex": [
       "$\\displaystyle 1.801$"
      ],
      "text/plain": [
       "1.80100000000000"
      ]
     },
     "execution_count": 82,
     "metadata": {},
     "output_type": "execute_result"
    }
   ],
   "source": [
    "y.subs(x,0.1)"
   ]
  },
  {
   "cell_type": "code",
   "execution_count": 83,
   "id": "a0a37a4a",
   "metadata": {},
   "outputs": [],
   "source": [
    "def newtraph(eps,a,num):\n",
    "    root = 0\n",
    "    xpt = []\n",
    "    xpt.append(a)\n",
    "    t= eps+1\n",
    "    while t > eps:\n",
    "        if y.subs(x,xpt[-1]) == 0:\n",
    "            return xpt\n",
    "        xpt.append(xpt[-1] - float(y.subs(x,xpt[-1])/d.subs(x,xpt[-1])))\n",
    "        t = abs(xpt[-1]-xpt[-2])\n",
    "        if len(xpt) > num:\n",
    "            return xpt\n",
    "    return xpt\n"
   ]
  },
  {
   "cell_type": "code",
   "execution_count": 86,
   "id": "ab22eaf4",
   "metadata": {},
   "outputs": [
    {
     "data": {
      "image/png": "[encoded data removed]",
      "text/latex": [
       "$\\displaystyle \\left[ 2, \\  1.4, \\  0.898969072164948, \\  -1.28877932766546, \\  -2.10576729901356, \\  -1.82919995046025, \\  -1.77171581206211, \\  -1.76929656115579, \\  -1.76929235425134\\right]$"
      ],
      "text/plain": [
       "[2, 1.4, 0.8989690721649483, -1.2887793276654635, -2.1057672990135563, -1.8291999504602467, -1.7717158120621068, -1.7692965611557903, -1.769292354251341]"
      ]
     },
     "execution_count": 86,
     "metadata": {},
     "output_type": "execute_result"
    }
   ],
   "source": [
    "ep = 0.001\n",
    "x1 = 2\n",
    "newtraph(ep,x1,5000)"
   ]
  }
 ],
 "metadata": {
  "kernelspec": {
   "display_name": "Python 3 (ipykernel)",
   "language": "python",
   "name": "python3"
  },
  "language_info": {
   "codemirror_mode": {
    "name": "ipython",
    "version": 3
   },
   "file_extension": ".py",
   "mimetype": "text/x-python",
   "name": "python",
   "nbconvert_exporter": "python",
   "pygments_lexer": "ipython3",
   "version": "3.11.4"
  }
 },
 "nbformat": 4,
 "nbformat_minor": 5
}
